{
 "cells": [
  {
   "cell_type": "markdown",
   "metadata": {},
   "source": [
    "# Transformer Implementation Plan\n",
    "\n",
    "## Progress Overview\n",
    "\n",
    "| Day | Task Description                                              | Status |\n",
    "|-----|---------------------------------------------------------------|--------|\n",
    "| 1   | Implement a simple attention layer mechanism                  | ✅ Done |\n",
    "| 2   | Add a feed forward layer after the self attention layer       | ✅ Done |\n",
    "| 3   | Implement multi-head attention                                | ⏳ To Do |\n",
    "| 4   | Add positional encoding                                       | ⏳ To Do |"
   ]
  },
  {
   "cell_type": "code",
   "execution_count": 1,
   "metadata": {},
   "outputs": [
    {
     "name": "stderr",
     "output_type": "stream",
     "text": [
      "/Users/zwicky/Desktop/transformer/lib/python3.9/site-packages/urllib3/__init__.py:35: NotOpenSSLWarning: urllib3 v2 only supports OpenSSL 1.1.1+, currently the 'ssl' module is compiled with 'LibreSSL 2.8.3'. See: https://github.com/urllib3/urllib3/issues/3020\n",
      "  warnings.warn(\n"
     ]
    }
   ],
   "source": [
    "'''\n",
    "This is my desperate attempt to implement transformers from scratch in tensorflow.\n",
    "'''\n",
    "#imports\n",
    "import torch\n",
    "from fastai.text.all import *\n"
   ]
  },
  {
   "cell_type": "code",
   "execution_count": 2,
   "metadata": {},
   "outputs": [],
   "source": [
    "'''\n",
    "Data - we'll use the most famous Shakespeare dataset from https://raw.githubusercontent.com/karpathy/char-rnn/master/data/tinyshakespeare/input.txt\n",
    "\n",
    "'''\n",
    "with open('/Users/zwicky/Desktop/learn_langchain/langchain/learn_transformer/data/input.txt', 'r') as file:\n",
    "    content = file.read()\n",
    "\n",
    "split_ratio = 0.9  # 90% for training, 10% for validation\n",
    "split_index = int(len(content) * split_ratio)\n",
    "\n",
    "train_content = content[:split_index]\n",
    "val_content = content[split_index:]\n",
    "\n",
    "# Write the training and validation sets to separate files\n",
    "with open('train.txt', 'w') as train_file:\n",
    "    train_file.write(train_content)\n",
    "\n",
    "with open('val.txt', 'w') as val_file:\n",
    "    val_file.write(val_content)\n"
   ]
  },
  {
   "cell_type": "code",
   "execution_count": 3,
   "metadata": {},
   "outputs": [
    {
     "name": "stdout",
     "output_type": "stream",
     "text": [
      "\n",
      "First 10 tokens:\n",
      "['First', 'Citizen:', '.', 'Before', 'we', 'proceed', 'any', 'further,', 'hear', 'me']\n",
      "\n",
      "Vocabulary size:\n",
      "25673\n",
      "\n",
      "First 10 items in word2idx:\n",
      "[('', 0), ('&C:', 1), ('&c.', 2), (\"'\", 3), (\"'?\", 4), (\"'A\", 5), (\"'Alas,\", 6), (\"'Alas,'\", 7), (\"'Alla\", 8), (\"'An\", 9)]\n"
     ]
    }
   ],
   "source": [
    "#load the train and val dataset \n",
    "lines = []\n",
    "with open('/Users/zwicky/Desktop/learn_langchain/langchain/learn_transformer/train.txt', 'r') as f:\n",
    "    lines.extend(f.readlines())\n",
    "with open('/Users/zwicky/Desktop/learn_langchain/langchain/learn_transformer/val.txt', 'r') as f:\n",
    "    lines.extend(f.readlines())\n",
    "\n",
    "# Clean up lines (remove newline characters and join)\n",
    "text = ' . '.join([l.strip() for l in lines])\n",
    "\n",
    "tokens = text.split(' ')\n",
    "\n",
    "# Create a vocabulary of unique tokens\n",
    "vocab = sorted(list(set(tokens)))\n",
    "\n",
    "# Create a word-to-index mapping\n",
    "word2idx = {word: idx for idx, word in enumerate(vocab)}\n",
    "\n",
    "print(\"\\nFirst 10 tokens:\")\n",
    "print(tokens[:10])\n",
    "print(\"\\nVocabulary size:\")\n",
    "print(len(vocab))\n",
    "print(\"\\nFirst 10 items in word2idx:\")\n",
    "print(list(word2idx.items())[:10])"
   ]
  },
  {
   "cell_type": "code",
   "execution_count": 4,
   "metadata": {},
   "outputs": [
    {
     "name": "stdout",
     "output_type": "stream",
     "text": [
      "\n",
      "First 5 numerical sequences (input tensors and target indices):\n",
      "[(tensor([1583,  995,  273]), 640), (tensor([24646, 18491,  5162]), 11880), (tensor([12903, 15684, 21347]), 273), (tensor([  0, 273, 405]), 273), (tensor([ 3656, 21347,   273]), 0)]\n",
      "\n",
      "Total number of sequences created: 62472\n"
     ]
    }
   ],
   "source": [
    "token_sequences = [(tokens[i : i + 3], tokens[i + 3]) for i in range(0, len(tokens) - 4, 4)]\n",
    "\n",
    "nums_sequences = [(torch.tensor([word2idx[token] for token in input_tokens]), word2idx[target_token])\n",
    "                  for input_tokens, target_token in token_sequences]\n",
    "\n",
    "\n",
    "print(\"\\nFirst 5 numerical sequences (input tensors and target indices):\")\n",
    "print(nums_sequences[:5])\n",
    "\n",
    "# You can check the total number of sequences created\n",
    "print(f\"\\nTotal number of sequences created: {len(nums_sequences)}\")"
   ]
  },
  {
   "cell_type": "code",
   "execution_count": 5,
   "metadata": {},
   "outputs": [
    {
     "data": {
      "text/plain": [
       "(tensor([1583,  995,  273]), 640)"
      ]
     },
     "execution_count": 5,
     "metadata": {},
     "output_type": "execute_result"
    }
   ],
   "source": [
    "nums_sequences[0]"
   ]
  },
  {
   "cell_type": "code",
   "execution_count": 6,
   "metadata": {},
   "outputs": [
    {
     "name": "stdout",
     "output_type": "stream",
     "text": [
      "Total sequences: 62472\n",
      "Training sequences: 49977\n",
      "Validation sequences: 12495\n"
     ]
    }
   ],
   "source": [
    "bs = 64\n",
    "# Calculate the split point\n",
    "cut = int(len(nums_sequences) * 0.8)\n",
    "\n",
    "# Split the sequences into training and validation sets\n",
    "train_data = nums_sequences[:cut]\n",
    "valid_data = nums_sequences[cut:]\n",
    "\n",
    "print(f\"Total sequences: {len(nums_sequences)}\")\n",
    "print(f\"Training sequences: {len(train_data)}\")\n",
    "print(f\"Validation sequences: {len(valid_data)}\")"
   ]
  },
  {
   "cell_type": "code",
   "execution_count": 7,
   "metadata": {},
   "outputs": [],
   "source": [
    "trainloader = torch.utils.data.DataLoader(train_data, batch_size=64, shuffle=True)\n",
    "validloader = torch.utils.data.DataLoader(valid_data, batch_size=64, shuffle=False)"
   ]
  },
  {
   "cell_type": "code",
   "execution_count": 8,
   "metadata": {},
   "outputs": [],
   "source": [
    "class SelfAttention(torch.nn.Module):\n",
    "    def __init__(self, d_in, d_qk, d_v=None):\n",
    "        '''\n",
    "        Create the Q and K matrices and V matrix \n",
    "        If the input tensor is (batch_size, sequence_length, feature_dimension)\n",
    "        d_in: integer, feature dimension of the input (depends on the model architecture, e.g., embedding size)\n",
    "        d_qk: integer, dimension of the query and key vectors (depends on the model architecture), ideally can be different but for this implementation we will use the same dimension for both. usually < d_in \n",
    "        d_v: integer, dimension of the value vector (if not given, it will be the same as d_qk)\n",
    "        The scaling factor of -0.5 is equivalent to dividing the dot product by the square root of the dimension of the query and key vectors.\n",
    "        '''\n",
    "        super().__init__()\n",
    "        self.q = torch.nn.Linear(d_in, d_qk, bias=False)\n",
    "        self.k = torch.nn.Linear(d_in, d_qk, bias=False)\n",
    "        if d_v is None:\n",
    "            d_v = d_qk\n",
    "        self.v = torch.nn.Linear(d_in, d_v, bias=False)\n",
    "        # self.out = torch.nn.Linear(d_v, d_in, bias=False)\n",
    "        # print(self.out.shape)\n",
    "        self.scale = d_qk ** -0.5  \n",
    "        self.softmax = torch.nn.Softmax(dim=-1)\n",
    "\n",
    "    def forward(self, x):\n",
    "        '''\n",
    "        Forward pass of the self-attention layer.\n",
    "        x: input tensor of shape (batch_size, seq_len, emb_size)\n",
    "        Returns: output tensor of shape (batch_size, seq_len, d_v)\n",
    "\n",
    "        attention vector size is (batch_size, seq_len, seq_len)\n",
    "        '''\n",
    "        Q, K, V = self.q(x), self.k(x), self.v(x)\n",
    "        # print(f\"Q shape: {Q.shape}, K shape: {K.shape}, V shape: {V.shape}\")\n",
    "        x = self.scale * torch.matmul(Q, K.transpose(-2, -1))\n",
    "        # print(f\"Attention scores shape: {x.shape}\")\n",
    "        x = self.softmax(x)\n",
    "        # print(f\"Softmax output shape: {x.shape}\")\n",
    "        x = torch.matmul(x, V)\n",
    "        # print(f\"Output shape after attention: {x.shape}\")\n",
    "        return x\n",
    "\n",
    "        "
   ]
  },
  {
   "cell_type": "code",
   "execution_count": null,
   "metadata": {},
   "outputs": [],
   "source": [
    "class nn(torch.nn.Module):\n",
    "    def __init__(self, d_in, d_ff):\n",
    "        super().__init__()\n",
    "        self.lin1 = torch.nn.Linear(d_in, d_ff, bias=False)\n",
    "        self.lin2 = torch.nn.Linear(d_ff, d_in, bias=False)\n",
    "        self.relu = torch.nn.ReLU()\n",
    "\n",
    "    def forward(self, x):\n",
    "        return self.relu(self.lin2(self.lin1(x)))"
   ]
  },
  {
   "cell_type": "code",
   "execution_count": null,
   "metadata": {},
   "outputs": [],
   "source": [
    "class Module_simple(torch.nn.Module):\n",
    "    def __init__(self, vocab_size, d_model, d_qk, d_ff):\n",
    "        '''\n",
    "        Embedding layer - maps each token to a vector of size d_model. Shape - (vocab_size, d_model)\n",
    "        Self attention layer - Calculates attention scores for the input sequence. Shape - (seq_len, d_model)\n",
    "        Output layer - Maps the output of the self-attention layer to the vocabulary size. Shape - (d_model, vocab_size)\n",
    "\n",
    "        Input → Embedding → Q/K/V → Self-Attention → FFN → Output\n",
    "\n",
    "        '''\n",
    "        super().__init__()\n",
    "        self.embedding = torch.nn.Embedding(vocab_size, d_model) \n",
    "        self.SelfAttention = SelfAttention(d_model, d_qk) \n",
    "        self.nn = nn(d_model, d_ff) \n",
    "        self.out = torch.nn.Linear(d_qk, vocab_size)\n",
    "\n",
    "    def forward(self, x):\n",
    "        x = self.embedding(x)  \n",
    "        x = self.SelfAttention(x) \n",
    "        # print(f\"Shape after self-attention: {x.shape}\")\n",
    "        x = x.mean(1)   \n",
    "        # print(f\"Shape after mean: {x.shape}\")\n",
    "        x = self.out(x) \n",
    "        # print(f\"Shape after output layer: {x.shape}\")\n",
    "        return x\n"
   ]
  },
  {
   "cell_type": "code",
   "execution_count": 11,
   "metadata": {},
   "outputs": [
    {
     "name": "stdout",
     "output_type": "stream",
     "text": [
      "torch.Size([64, 25673])\n"
     ]
    }
   ],
   "source": [
    "model = Module_simple(len(vocab), 64, 128)\n",
    "#pass one batch through the model using trainloader\n",
    "data_batch, labels_batch = next(iter(trainloader))\n",
    "out = model(data_batch)\n",
    "print(out.shape)"
   ]
  },
  {
   "cell_type": "code",
   "execution_count": 12,
   "metadata": {},
   "outputs": [],
   "source": [
    "#train model using learner \n",
    "dls = DataLoaders(trainloader, validloader)\n",
    "learn = Learner(dls, model, loss_func=CrossEntropyLossFlat(), metrics=accuracy)\n",
    "# learn.lr_find()  #doesn't work in my notebook env"
   ]
  },
  {
   "cell_type": "code",
   "execution_count": 13,
   "metadata": {},
   "outputs": [
    {
     "data": {
      "text/html": [
       "\n",
       "<style>\n",
       "    /* Turns off some styling */\n",
       "    progress {\n",
       "        /* gets rid of default border in Firefox and Opera. */\n",
       "        border: none;\n",
       "        /* Needs to be in here for Safari polyfill so background images work as expected. */\n",
       "        background-size: auto;\n",
       "    }\n",
       "    progress:not([value]), progress:not([value])::-webkit-progress-bar {\n",
       "        background: repeating-linear-gradient(45deg, #7e7e7e, #7e7e7e 10px, #5c5c5c 10px, #5c5c5c 20px);\n",
       "    }\n",
       "    .progress-bar-interrupted, .progress-bar-interrupted::-webkit-progress-bar {\n",
       "        background: #F44336;\n",
       "    }\n",
       "</style>\n"
      ],
      "text/plain": [
       "<IPython.core.display.HTML object>"
      ]
     },
     "metadata": {},
     "output_type": "display_data"
    },
    {
     "data": {
      "text/html": [
       "<table border=\"1\" class=\"dataframe\">\n",
       "  <thead>\n",
       "    <tr style=\"text-align: left;\">\n",
       "      <th>epoch</th>\n",
       "      <th>train_loss</th>\n",
       "      <th>valid_loss</th>\n",
       "      <th>accuracy</th>\n",
       "      <th>time</th>\n",
       "    </tr>\n",
       "  </thead>\n",
       "  <tbody>\n",
       "    <tr>\n",
       "      <td>0</td>\n",
       "      <td>7.048087</td>\n",
       "      <td>7.238580</td>\n",
       "      <td>0.176391</td>\n",
       "      <td>00:11</td>\n",
       "    </tr>\n",
       "    <tr>\n",
       "      <td>1</td>\n",
       "      <td>6.373477</td>\n",
       "      <td>6.980987</td>\n",
       "      <td>0.173349</td>\n",
       "      <td>00:07</td>\n",
       "    </tr>\n",
       "    <tr>\n",
       "      <td>2</td>\n",
       "      <td>5.836378</td>\n",
       "      <td>6.955272</td>\n",
       "      <td>0.175670</td>\n",
       "      <td>00:08</td>\n",
       "    </tr>\n",
       "    <tr>\n",
       "      <td>3</td>\n",
       "      <td>5.183416</td>\n",
       "      <td>7.009202</td>\n",
       "      <td>0.176150</td>\n",
       "      <td>00:07</td>\n",
       "    </tr>\n",
       "    <tr>\n",
       "      <td>4</td>\n",
       "      <td>4.491425</td>\n",
       "      <td>7.064063</td>\n",
       "      <td>0.172229</td>\n",
       "      <td>00:07</td>\n",
       "    </tr>\n",
       "  </tbody>\n",
       "</table>"
      ],
      "text/plain": [
       "<IPython.core.display.HTML object>"
      ]
     },
     "metadata": {},
     "output_type": "display_data"
    }
   ],
   "source": [
    "learn.fit_one_cycle(5, 5e-3)"
   ]
  },
  {
   "cell_type": "markdown",
   "metadata": {},
   "source": [
    "## Multi head attention "
   ]
  },
  {
   "cell_type": "code",
   "execution_count": null,
   "metadata": {},
   "outputs": [],
   "source": [
    "class multiheadattn(torch.nn.Module):\n",
    "    def __init__(self, d_model, n_heads):\n",
    "        super().__init__()\n",
    "        \n"
   ]
  },
  {
   "cell_type": "code",
   "execution_count": null,
   "metadata": {},
   "outputs": [],
   "source": []
  },
  {
   "cell_type": "code",
   "execution_count": null,
   "metadata": {},
   "outputs": [],
   "source": [
    "'''\n",
    "Credits \n",
    "https://colab.research.google.com/drive/1rjYhOhAmEyi1u2uz2s9XABjDFphTOFvY#scrollTo=c49ffa82\n",
    "'''"
   ]
  }
 ],
 "metadata": {
  "kernelspec": {
   "display_name": "transformer",
   "language": "python",
   "name": "python3"
  },
  "language_info": {
   "codemirror_mode": {
    "name": "ipython",
    "version": 3
   },
   "file_extension": ".py",
   "mimetype": "text/x-python",
   "name": "python",
   "nbconvert_exporter": "python",
   "pygments_lexer": "ipython3",
   "version": "3.9.6"
  }
 },
 "nbformat": 4,
 "nbformat_minor": 2
}
