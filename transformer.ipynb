{
 "cells": [
  {
   "cell_type": "code",
   "execution_count": 24,
   "metadata": {},
   "outputs": [],
   "source": [
    "'''\n",
    "This is my desperate attempt to implement transformers from scratch in tensorflow.\n",
    "'''\n",
    "#imports\n",
    "import torch\n"
   ]
  },
  {
   "cell_type": "code",
   "execution_count": 25,
   "metadata": {},
   "outputs": [],
   "source": [
    "'''\n",
    "Data - we'll use the most famous Shakespeare dataset from https://raw.githubusercontent.com/karpathy/char-rnn/master/data/tinyshakespeare/input.txt\n",
    "\n",
    "'''\n",
    "with open('/Users/zwicky/Desktop/learn_langchain/langchain/learn_transformer/data/input.txt', 'r') as file:\n",
    "    content = file.read()\n",
    "\n",
    "split_ratio = 0.9  # 90% for training, 10% for validation\n",
    "split_index = int(len(content) * split_ratio)\n",
    "\n",
    "train_content = content[:split_index]\n",
    "val_content = content[split_index:]\n",
    "\n",
    "# Write the training and validation sets to separate files\n",
    "with open('train.txt', 'w') as train_file:\n",
    "    train_file.write(train_content)\n",
    "\n",
    "with open('val.txt', 'w') as val_file:\n",
    "    val_file.write(val_content)\n"
   ]
  },
  {
   "cell_type": "code",
   "execution_count": 26,
   "metadata": {},
   "outputs": [
    {
     "name": "stdout",
     "output_type": "stream",
     "text": [
      "\n",
      "First 10 tokens:\n",
      "['First', 'Citizen:', '.', 'Before', 'we', 'proceed', 'any', 'further,', 'hear', 'me']\n",
      "\n",
      "Vocabulary size:\n",
      "25673\n",
      "\n",
      "First 10 items in word2idx:\n",
      "[('', 0), ('&C:', 1), ('&c.', 2), (\"'\", 3), (\"'?\", 4), (\"'A\", 5), (\"'Alas,\", 6), (\"'Alas,'\", 7), (\"'Alla\", 8), (\"'An\", 9)]\n"
     ]
    }
   ],
   "source": [
    "#load the train and val dataset \n",
    "lines = []\n",
    "with open('/Users/zwicky/Desktop/learn_langchain/langchain/learn_transformer/train.txt', 'r') as f:\n",
    "    lines.extend(f.readlines())\n",
    "with open('/Users/zwicky/Desktop/learn_langchain/langchain/learn_transformer/val.txt', 'r') as f:\n",
    "    lines.extend(f.readlines())\n",
    "\n",
    "# Clean up lines (remove newline characters and join)\n",
    "text = ' . '.join([l.strip() for l in lines])\n",
    "\n",
    "tokens = text.split(' ')\n",
    "\n",
    "# Create a vocabulary of unique tokens\n",
    "vocab = sorted(list(set(tokens)))\n",
    "\n",
    "# Create a word-to-index mapping\n",
    "word2idx = {word: idx for idx, word in enumerate(vocab)}\n",
    "\n",
    "print(\"\\nFirst 10 tokens:\")\n",
    "print(tokens[:10])\n",
    "print(\"\\nVocabulary size:\")\n",
    "print(len(vocab))\n",
    "print(\"\\nFirst 10 items in word2idx:\")\n",
    "print(list(word2idx.items())[:10])"
   ]
  },
  {
   "cell_type": "code",
   "execution_count": 27,
   "metadata": {},
   "outputs": [
    {
     "name": "stdout",
     "output_type": "stream",
     "text": [
      "\n",
      "First 5 numerical sequences (input tensors and target indices):\n",
      "[(tensor([1583,  995,  273]), 640), (tensor([24646, 18491,  5162]), 11880), (tensor([12903, 15684, 21347]), 273), (tensor([  0, 273, 405]), 273), (tensor([ 3656, 21347,   273]), 0)]\n",
      "\n",
      "Total number of sequences created: 62472\n"
     ]
    }
   ],
   "source": [
    "token_sequences = [(tokens[i : i + 3], tokens[i + 3]) for i in range(0, len(tokens) - 4, 4)]\n",
    "\n",
    "nums_sequences = [(torch.tensor([word2idx[token] for token in input_tokens]), word2idx[target_token])\n",
    "                  for input_tokens, target_token in token_sequences]\n",
    "\n",
    "\n",
    "print(\"\\nFirst 5 numerical sequences (input tensors and target indices):\")\n",
    "print(nums_sequences[:5])\n",
    "\n",
    "# You can check the total number of sequences created\n",
    "print(f\"\\nTotal number of sequences created: {len(nums_sequences)}\")"
   ]
  },
  {
   "cell_type": "code",
   "execution_count": 28,
   "metadata": {},
   "outputs": [
    {
     "data": {
      "text/plain": [
       "(tensor([1583,  995,  273]), 640)"
      ]
     },
     "execution_count": 28,
     "metadata": {},
     "output_type": "execute_result"
    }
   ],
   "source": [
    "nums_sequences[0]"
   ]
  },
  {
   "cell_type": "code",
   "execution_count": 29,
   "metadata": {},
   "outputs": [
    {
     "name": "stdout",
     "output_type": "stream",
     "text": [
      "Total sequences: 62472\n",
      "Training sequences: 49977\n",
      "Validation sequences: 12495\n"
     ]
    }
   ],
   "source": [
    "bs = 64\n",
    "# Calculate the split point\n",
    "cut = int(len(nums_sequences) * 0.8)\n",
    "\n",
    "# Split the sequences into training and validation sets\n",
    "train_data = nums_sequences[:cut]\n",
    "valid_data = nums_sequences[cut:]\n",
    "\n",
    "print(f\"Total sequences: {len(nums_sequences)}\")\n",
    "print(f\"Training sequences: {len(train_data)}\")\n",
    "print(f\"Validation sequences: {len(valid_data)}\")"
   ]
  },
  {
   "cell_type": "code",
   "execution_count": 30,
   "metadata": {},
   "outputs": [],
   "source": [
    "trainloader = torch.utils.data.DataLoader(train_data, batch_size=64, shuffle=True)\n",
    "validloader = torch.utils.data.DataLoader(valid_data, batch_size=64, shuffle=False)"
   ]
  },
  {
   "cell_type": "code",
   "execution_count": null,
   "metadata": {},
   "outputs": [],
   "source": []
  },
  {
   "cell_type": "code",
   "execution_count": null,
   "metadata": {},
   "outputs": [],
   "source": [
    "class SelfAttention(torch.nn.Module):\n",
    "    def __init__(self, d_in, d_qk, d_v=None):\n",
    "        '''\n",
    "        Create the Q and K matrices and V matrix \n",
    "        If the input tensor is (batch_size, sequence_length, feature_dimension)\n",
    "        d_in: integer, feature dimension of the input (depends on the model architecture, e.g., embedding size)\n",
    "        d_qk: integer, dimension of the query and key vectors (depends on the model architecture), ideally can be different but for this implementation we will use the same dimension for both. usually < d_in \n",
    "        d_v: integer, dimension of the value vector (if not given, it will be the same as d_qk)\n",
    "        The scaling factor of -0.5 is equivalent to dividing the dot product by the square root of the dimension of the query and key vectors.\n",
    "        '''\n",
    "        super().__init__()\n",
    "        self.q = torch.nn.Linear(d_in, d_qk, bias=False)\n",
    "        self.k = torch.nn.Linear(d_in, d_qk, bias=False)\n",
    "        if d_v is None:\n",
    "            d_v = d_qk\n",
    "        self.v = torch.nn.Linear(d_in, d_v, bias=False)\n",
    "        self.out = torch.nn.Linear(d_v, d_in, bias=False)\n",
    "        self.scale = d_qk ** -0.5  \n",
    "        self.softmax = torch.nn.Softmax(dim=-1)\n",
    "\n",
    "    def forward(self, x):\n",
    "        '''\n",
    "        Forward pass of the self-attention layer.\n",
    "        x: input tensor of shape (batch_size, seq_len, emb_size)\n",
    "        Returns: output tensor of shape (batch_size, seq_len, d_v)\n",
    "\n",
    "        attention vector size is (batch_size, seq_len, seq_len)\n",
    "        '''\n",
    "        Q, K, V = self.q(x), self.k(x), self.v(x)\n",
    "        x = self.scale * torch.matmul(Q, K.transpose(-2, -1))\n",
    "        x = self.softmax(self.out(x))\n",
    "        x = torch.matmul(x, V)\n",
    "        return x\n",
    "\n",
    "        "
   ]
  },
  {
   "cell_type": "code",
   "execution_count": 32,
   "metadata": {},
   "outputs": [],
   "source": [
    "class Module_simple(torch.nn.Module):\n",
    "    def __init__(self, vocab_size, d_in, d_qk):\n",
    "        super().__init__()\n",
    "        self.embedding = torch.nn.Embedding(vocab_size, d_in) \n",
    "        self.SelfAttention = SelfAttention(d_in, d_qk)  #output is (d_in, d_qk)\n",
    "        self.out = torch.nn.Linear(d_in, vocab_size)\n",
    "\n",
    "    def forward(self, x):\n",
    "        x = self.embedding(x)  \n",
    "        x = self.SelfAttention(x) #seq_len, seq_len\n",
    "        x = x.mean()   #size is seq_len\n",
    "        x = self.out(x) \n"
   ]
  },
  {
   "cell_type": "code",
   "execution_count": 33,
   "metadata": {},
   "outputs": [
    {
     "ename": "AttributeError",
     "evalue": "cannot assign module before Module.__init__() call",
     "output_type": "error",
     "traceback": [
      "\u001b[0;31m---------------------------------------------------------------------------\u001b[0m",
      "\u001b[0;31mAttributeError\u001b[0m                            Traceback (most recent call last)",
      "Cell \u001b[0;32mIn[33], line 1\u001b[0m\n\u001b[0;32m----> 1\u001b[0m model \u001b[38;5;241m=\u001b[39m \u001b[43mModule_simple\u001b[49m\u001b[43m(\u001b[49m\u001b[38;5;28;43mlen\u001b[39;49m\u001b[43m(\u001b[49m\u001b[43mvocab\u001b[49m\u001b[43m)\u001b[49m\u001b[43m,\u001b[49m\u001b[43m \u001b[49m\u001b[38;5;241;43m64\u001b[39;49m\u001b[43m,\u001b[49m\u001b[43m \u001b[49m\u001b[38;5;241;43m128\u001b[39;49m\u001b[43m)\u001b[49m\n\u001b[1;32m      2\u001b[0m \u001b[38;5;66;03m#pass one batch through the model using trainloader\u001b[39;00m\n\u001b[1;32m      3\u001b[0m out \u001b[38;5;241m=\u001b[39m model(trainloader)\n",
      "Cell \u001b[0;32mIn[32], line 5\u001b[0m, in \u001b[0;36mModule_simple.__init__\u001b[0;34m(self, vocab_size, d_in, d_qk)\u001b[0m\n\u001b[1;32m      3\u001b[0m \u001b[38;5;28msuper\u001b[39m()\u001b[38;5;241m.\u001b[39m\u001b[38;5;21m__init__\u001b[39m()\n\u001b[1;32m      4\u001b[0m \u001b[38;5;28mself\u001b[39m\u001b[38;5;241m.\u001b[39membedding \u001b[38;5;241m=\u001b[39m torch\u001b[38;5;241m.\u001b[39mnn\u001b[38;5;241m.\u001b[39mEmbedding(vocab_size, d_in) \n\u001b[0;32m----> 5\u001b[0m \u001b[38;5;28mself\u001b[39m\u001b[38;5;241m.\u001b[39mSelfAttention \u001b[38;5;241m=\u001b[39m \u001b[43mSelfAttention\u001b[49m\u001b[43m(\u001b[49m\u001b[43md_in\u001b[49m\u001b[43m,\u001b[49m\u001b[43m \u001b[49m\u001b[43md_qk\u001b[49m\u001b[43m)\u001b[49m  \u001b[38;5;66;03m#output is (d_in, d_qk)\u001b[39;00m\n\u001b[1;32m      6\u001b[0m \u001b[38;5;28mself\u001b[39m\u001b[38;5;241m.\u001b[39mout \u001b[38;5;241m=\u001b[39m torch\u001b[38;5;241m.\u001b[39mnn\u001b[38;5;241m.\u001b[39mLinear(d_in, vocab_size)\n",
      "Cell \u001b[0;32mIn[31], line 11\u001b[0m, in \u001b[0;36mSelfAttention.__init__\u001b[0;34m(self, d_in, d_qk, d_v)\u001b[0m\n\u001b[1;32m      2\u001b[0m \u001b[38;5;28;01mdef\u001b[39;00m\u001b[38;5;250m \u001b[39m\u001b[38;5;21m__init__\u001b[39m(\u001b[38;5;28mself\u001b[39m, d_in, d_qk, d_v\u001b[38;5;241m=\u001b[39m\u001b[38;5;28;01mNone\u001b[39;00m):\n\u001b[1;32m      3\u001b[0m \u001b[38;5;250m    \u001b[39m\u001b[38;5;124;03m'''\u001b[39;00m\n\u001b[1;32m      4\u001b[0m \u001b[38;5;124;03m    Create the Q and K matrices and V matrix \u001b[39;00m\n\u001b[1;32m      5\u001b[0m \u001b[38;5;124;03m    If the input tensor is (batch_size, sequence_length, feature_dimension)\u001b[39;00m\n\u001b[0;32m   (...)\u001b[0m\n\u001b[1;32m      9\u001b[0m \u001b[38;5;124;03m    The scaling factor of -0.5 is equivalent to dividing the dot product by the square root of the dimension of the query and key vectors.\u001b[39;00m\n\u001b[1;32m     10\u001b[0m \u001b[38;5;124;03m    '''\u001b[39;00m\n\u001b[0;32m---> 11\u001b[0m     \u001b[38;5;28;43mself\u001b[39;49m\u001b[38;5;241;43m.\u001b[39;49m\u001b[43mq\u001b[49m \u001b[38;5;241m=\u001b[39m torch\u001b[38;5;241m.\u001b[39mnn\u001b[38;5;241m.\u001b[39mLinear(d_in, d_qk, bias\u001b[38;5;241m=\u001b[39m\u001b[38;5;28;01mFalse\u001b[39;00m)\n\u001b[1;32m     12\u001b[0m     \u001b[38;5;28mself\u001b[39m\u001b[38;5;241m.\u001b[39mk \u001b[38;5;241m=\u001b[39m torch\u001b[38;5;241m.\u001b[39mnn\u001b[38;5;241m.\u001b[39mLinear(d_in, d_qk, bias\u001b[38;5;241m=\u001b[39m\u001b[38;5;28;01mFalse\u001b[39;00m)\n\u001b[1;32m     13\u001b[0m     \u001b[38;5;28;01mif\u001b[39;00m d_v \u001b[38;5;129;01mis\u001b[39;00m \u001b[38;5;28;01mNone\u001b[39;00m:\n",
      "File \u001b[0;32m~/Desktop/transformer/lib/python3.9/site-packages/torch/nn/modules/module.py:1977\u001b[0m, in \u001b[0;36mModule.__setattr__\u001b[0;34m(self, name, value)\u001b[0m\n\u001b[1;32m   1975\u001b[0m \u001b[38;5;28;01mif\u001b[39;00m \u001b[38;5;28misinstance\u001b[39m(value, Module):\n\u001b[1;32m   1976\u001b[0m     \u001b[38;5;28;01mif\u001b[39;00m modules \u001b[38;5;129;01mis\u001b[39;00m \u001b[38;5;28;01mNone\u001b[39;00m:\n\u001b[0;32m-> 1977\u001b[0m         \u001b[38;5;28;01mraise\u001b[39;00m \u001b[38;5;167;01mAttributeError\u001b[39;00m(\n\u001b[1;32m   1978\u001b[0m             \u001b[38;5;124m\"\u001b[39m\u001b[38;5;124mcannot assign module before Module.__init__() call\u001b[39m\u001b[38;5;124m\"\u001b[39m\n\u001b[1;32m   1979\u001b[0m         )\n\u001b[1;32m   1980\u001b[0m     remove_from(\n\u001b[1;32m   1981\u001b[0m         \u001b[38;5;28mself\u001b[39m\u001b[38;5;241m.\u001b[39m\u001b[38;5;18m__dict__\u001b[39m,\n\u001b[1;32m   1982\u001b[0m         \u001b[38;5;28mself\u001b[39m\u001b[38;5;241m.\u001b[39m_parameters,\n\u001b[1;32m   1983\u001b[0m         \u001b[38;5;28mself\u001b[39m\u001b[38;5;241m.\u001b[39m_buffers,\n\u001b[1;32m   1984\u001b[0m         \u001b[38;5;28mself\u001b[39m\u001b[38;5;241m.\u001b[39m_non_persistent_buffers_set,\n\u001b[1;32m   1985\u001b[0m     )\n\u001b[1;32m   1986\u001b[0m     \u001b[38;5;28;01mfor\u001b[39;00m hook \u001b[38;5;129;01min\u001b[39;00m _global_module_registration_hooks\u001b[38;5;241m.\u001b[39mvalues():\n",
      "\u001b[0;31mAttributeError\u001b[0m: cannot assign module before Module.__init__() call"
     ]
    }
   ],
   "source": [
    "model = Module_simple(len(vocab), 64, 128)\n",
    "#pass one batch through the model using trainloader\n",
    "out = model(trainloader)\n",
    "out.shape"
   ]
  },
  {
   "cell_type": "code",
   "execution_count": null,
   "metadata": {},
   "outputs": [],
   "source": []
  },
  {
   "cell_type": "code",
   "execution_count": null,
   "metadata": {},
   "outputs": [],
   "source": [
    "'''\n",
    "Credits \n",
    "https://colab.research.google.com/drive/1rjYhOhAmEyi1u2uz2s9XABjDFphTOFvY#scrollTo=c49ffa82\n",
    "'''"
   ]
  }
 ],
 "metadata": {
  "kernelspec": {
   "display_name": "transformer",
   "language": "python",
   "name": "python3"
  },
  "language_info": {
   "codemirror_mode": {
    "name": "ipython",
    "version": 3
   },
   "file_extension": ".py",
   "mimetype": "text/x-python",
   "name": "python",
   "nbconvert_exporter": "python",
   "pygments_lexer": "ipython3",
   "version": "3.9.6"
  }
 },
 "nbformat": 4,
 "nbformat_minor": 2
}
