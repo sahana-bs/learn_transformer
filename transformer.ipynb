{
 "cells": [
  {
   "cell_type": "markdown",
   "metadata": {},
   "source": [
    "# Transformer Implementation Plan\n",
    "\n",
    "## Progress Overview\n",
    "\n",
    "| Day | Task Description                                              | Status |\n",
    "|-----|---------------------------------------------------------------|--------|\n",
    "| 1   | Implement a simple attention layer mechanism                  | ✅ Done |\n",
    "| 2   | Add a feed forward layer after the self attention layer       | ✅ Done |\n",
    "| 3   | Implement multi-head attention                                | ✅ Done  |\n",
    "| 4   | Add positional encoding                                       | ⏳ To Do |\n",
    "| 5   | Add Cross Attention                                           | ⏳ To Do |"
   ]
  },
  {
   "cell_type": "markdown",
   "metadata": {},
   "source": []
  },
  {
   "cell_type": "code",
   "execution_count": 115,
   "metadata": {},
   "outputs": [],
   "source": [
    "'''\n",
    "This is my desperate attempt to implement transformers from scratch in tensorflow.\n",
    "'''\n",
    "#imports\n",
    "import torch\n",
    "from fastai.text.all import *\n"
   ]
  },
  {
   "cell_type": "code",
   "execution_count": 116,
   "metadata": {},
   "outputs": [],
   "source": [
    "'''\n",
    "Data - we'll use the most famous Shakespeare dataset from https://raw.githubusercontent.com/karpathy/char-rnn/master/data/tinyshakespeare/input.txt\n",
    "\n",
    "'''\n",
    "with open('/Users/zwicky/Desktop/learn_langchain/langchain/learn_transformer/data/input.txt', 'r') as file:\n",
    "    content = file.read()\n",
    "\n",
    "split_ratio = 0.9  # 90% for training, 10% for validation\n",
    "split_index = int(len(content) * split_ratio)\n",
    "\n",
    "train_content = content[:split_index]\n",
    "val_content = content[split_index:]\n",
    "\n",
    "# Write the training and validation sets to separate files\n",
    "with open('train.txt', 'w') as train_file:\n",
    "    train_file.write(train_content)\n",
    "\n",
    "with open('val.txt', 'w') as val_file:\n",
    "    val_file.write(val_content)\n"
   ]
  },
  {
   "cell_type": "code",
   "execution_count": 117,
   "metadata": {},
   "outputs": [
    {
     "name": "stdout",
     "output_type": "stream",
     "text": [
      "\n",
      "First 10 tokens:\n",
      "['First', 'Citizen:', '.', 'Before', 'we', 'proceed', 'any', 'further,', 'hear', 'me']\n",
      "\n",
      "Vocabulary size:\n",
      "25673\n",
      "\n",
      "First 10 items in word2idx:\n",
      "[('', 0), ('&C:', 1), ('&c.', 2), (\"'\", 3), (\"'?\", 4), (\"'A\", 5), (\"'Alas,\", 6), (\"'Alas,'\", 7), (\"'Alla\", 8), (\"'An\", 9)]\n"
     ]
    }
   ],
   "source": [
    "#load the train and val dataset \n",
    "lines = []\n",
    "with open('/Users/zwicky/Desktop/learn_langchain/langchain/learn_transformer/train.txt', 'r') as f:\n",
    "    lines.extend(f.readlines())\n",
    "with open('/Users/zwicky/Desktop/learn_langchain/langchain/learn_transformer/val.txt', 'r') as f:\n",
    "    lines.extend(f.readlines())\n",
    "\n",
    "# Clean up lines (remove newline characters and join)\n",
    "text = ' . '.join([l.strip() for l in lines])\n",
    "\n",
    "tokens = text.split(' ')\n",
    "\n",
    "# Create a vocabulary of unique tokens\n",
    "vocab = sorted(list(set(tokens)))\n",
    "\n",
    "# Create a word-to-index mapping\n",
    "word2idx = {word: idx for idx, word in enumerate(vocab)}\n",
    "\n",
    "print(\"\\nFirst 10 tokens:\")\n",
    "print(tokens[:10])\n",
    "print(\"\\nVocabulary size:\")\n",
    "print(len(vocab))\n",
    "print(\"\\nFirst 10 items in word2idx:\")\n",
    "print(list(word2idx.items())[:10])"
   ]
  },
  {
   "cell_type": "code",
   "execution_count": 118,
   "metadata": {},
   "outputs": [
    {
     "name": "stdout",
     "output_type": "stream",
     "text": [
      "\n",
      "First 5 numerical sequences (input tensors and target indices):\n",
      "[(tensor([1583,  995,  273]), 640), (tensor([24646, 18491,  5162]), 11880), (tensor([12903, 15684, 21347]), 273), (tensor([  0, 273, 405]), 273), (tensor([ 3656, 21347,   273]), 0)]\n",
      "\n",
      "Total number of sequences created: 62472\n"
     ]
    }
   ],
   "source": [
    "token_sequences = [(tokens[i : i + 3], tokens[i + 3]) for i in range(0, len(tokens) - 4, 4)]\n",
    "\n",
    "nums_sequences = [(torch.tensor([word2idx[token] for token in input_tokens]), word2idx[target_token])\n",
    "                  for input_tokens, target_token in token_sequences]\n",
    "\n",
    "\n",
    "print(\"\\nFirst 5 numerical sequences (input tensors and target indices):\")\n",
    "print(nums_sequences[:5])\n",
    "\n",
    "# You can check the total number of sequences created\n",
    "print(f\"\\nTotal number of sequences created: {len(nums_sequences)}\")"
   ]
  },
  {
   "cell_type": "code",
   "execution_count": 119,
   "metadata": {},
   "outputs": [
    {
     "data": {
      "text/plain": [
       "(tensor([1583,  995,  273]), 640)"
      ]
     },
     "execution_count": 119,
     "metadata": {},
     "output_type": "execute_result"
    }
   ],
   "source": [
    "nums_sequences[0]"
   ]
  },
  {
   "cell_type": "code",
   "execution_count": 120,
   "metadata": {},
   "outputs": [
    {
     "name": "stdout",
     "output_type": "stream",
     "text": [
      "Total sequences: 62472\n",
      "Training sequences: 49977\n",
      "Validation sequences: 12495\n"
     ]
    }
   ],
   "source": [
    "bs = 64\n",
    "# Calculate the split point\n",
    "cut = int(len(nums_sequences) * 0.8)\n",
    "\n",
    "# Split the sequences into training and validation sets\n",
    "train_data = nums_sequences[:cut]\n",
    "valid_data = nums_sequences[cut:]\n",
    "\n",
    "print(f\"Total sequences: {len(nums_sequences)}\")\n",
    "print(f\"Training sequences: {len(train_data)}\")\n",
    "print(f\"Validation sequences: {len(valid_data)}\")"
   ]
  },
  {
   "cell_type": "code",
   "execution_count": 121,
   "metadata": {},
   "outputs": [],
   "source": [
    "trainloader = torch.utils.data.DataLoader(train_data, batch_size=64, shuffle=True)\n",
    "validloader = torch.utils.data.DataLoader(valid_data, batch_size=64, shuffle=False)"
   ]
  },
  {
   "cell_type": "code",
   "execution_count": 122,
   "metadata": {},
   "outputs": [],
   "source": [
    "class SelfAttention(torch.nn.Module):\n",
    "    def __init__(self, d_in, d_qk, d_v=None):\n",
    "        '''\n",
    "        Create the Q and K matrices and V matrix \n",
    "        If the input tensor is (batch_size, sequence_length, feature_dimension)\n",
    "        d_in: integer, feature dimension of the input (depends on the model architecture, e.g., embedding size)\n",
    "        d_qk: integer, dimension of the query and key vectors (depends on the model architecture), ideally can be different but for this implementation we will use the same dimension for both. usually < d_in \n",
    "        d_v: integer, dimension of the value vector (if not given, it will be the same as d_qk)\n",
    "        The scaling factor of -0.5 is equivalent to dividing the dot product by the square root of the dimension of the query and key vectors.\n",
    "        '''\n",
    "        super().__init__()\n",
    "        self.q = torch.nn.Linear(d_in, d_qk, bias=False)\n",
    "        self.k = torch.nn.Linear(d_in, d_qk, bias=False)\n",
    "        if d_v is None:\n",
    "            d_v = d_qk\n",
    "        self.v = torch.nn.Linear(d_in, d_v, bias=False)\n",
    "        # self.out = torch.nn.Linear(d_v, d_in, bias=False)\n",
    "        # print(self.out.shape)\n",
    "        self.scale = d_qk ** -0.5  \n",
    "        self.softmax = torch.nn.Softmax(dim=-1)\n",
    "\n",
    "    def forward(self, x):\n",
    "        '''\n",
    "        Forward pass of the self-attention layer.\n",
    "        x: input tensor of shape (batch_size, seq_len, emb_size)\n",
    "        Returns: output tensor of shape (batch_size, seq_len, d_v)\n",
    "\n",
    "        attention vector size is (batch_size, seq_len, seq_len)\n",
    "        '''\n",
    "        Q, K, V = self.q(x), self.k(x), self.v(x)\n",
    "        # print(f\"Q shape: {Q.shape}, K shape: {K.shape}, V shape: {V.shape}\")\n",
    "        x = self.scale * torch.matmul(Q, K.transpose(-2, -1))\n",
    "        # print(f\"Attention scores shape: {x.shape}\")\n",
    "        x = self.softmax(x)\n",
    "        # print(f\"Softmax output shape: {x.shape}\")\n",
    "        x = torch.matmul(x, V)\n",
    "        # print(f\"Output shape after attention: {x.shape}\")\n",
    "        return x\n",
    "\n",
    "        "
   ]
  },
  {
   "cell_type": "code",
   "execution_count": 123,
   "metadata": {},
   "outputs": [],
   "source": [
    "class nn(torch.nn.Module):\n",
    "    def __init__(self, d_in, d_ff):\n",
    "        super().__init__()\n",
    "        self.lin1 = torch.nn.Linear(d_in, d_ff, bias=False)\n",
    "        self.lin2 = torch.nn.Linear(d_ff, d_in, bias=False)\n",
    "        self.relu = torch.nn.ReLU()\n",
    "\n",
    "    def forward(self, x):\n",
    "        return self.relu(self.lin2(self.lin1(x)))"
   ]
  },
  {
   "cell_type": "code",
   "execution_count": 124,
   "metadata": {},
   "outputs": [],
   "source": [
    "class Module_simple(torch.nn.Module):\n",
    "    def __init__(self, vocab_size, d_model, d_qk, d_ff):\n",
    "        '''\n",
    "        Embedding layer - maps each token to a vector of size d_model. Shape - (vocab_size, d_model)\n",
    "        Self attention layer - Calculates attention scores for the input sequence. Shape - (seq_len, d_model)\n",
    "        Output layer - Maps the output of the self-attention layer to the vocabulary size. Shape - (d_model, vocab_size)\n",
    "\n",
    "        Input → Embedding → Q/K/V → Self-Attention → FFN → Output\n",
    "\n",
    "        '''\n",
    "        super().__init__()\n",
    "        self.embedding = torch.nn.Embedding(vocab_size, d_model) \n",
    "        self.SelfAttention = SelfAttention(d_model, d_qk) \n",
    "        self.nn = nn(d_model, d_ff) \n",
    "        self.out = torch.nn.Linear(d_model, vocab_size)\n",
    "\n",
    "    def forward(self, x):\n",
    "        x = self.embedding(x)  \n",
    "        x = self.SelfAttention(x) \n",
    "        # print(f\"Shape after self-attention: {x.shape}\")\n",
    "        x = self.nn(x)\n",
    "        x = x.mean(1)   \n",
    "        # print(f\"Shape after mean: {x.shape}\")\n",
    "        x = self.out(x) \n",
    "        # print(f\"Shape after output layer: {x.shape}\")\n",
    "        return x\n"
   ]
  },
  {
   "cell_type": "code",
   "execution_count": 11,
   "metadata": {},
   "outputs": [
    {
     "name": "stdout",
     "output_type": "stream",
     "text": [
      "torch.Size([64, 25673])\n"
     ]
    }
   ],
   "source": [
    "model = Module_simple(len(vocab), 64, 128)\n",
    "#pass one batch through the model using trainloader\n",
    "data_batch, labels_batch = next(iter(trainloader))\n",
    "out = model(data_batch)\n",
    "print(out.shape)"
   ]
  },
  {
   "cell_type": "code",
   "execution_count": 12,
   "metadata": {},
   "outputs": [],
   "source": [
    "#train model using learner \n",
    "dls = DataLoaders(trainloader, validloader)\n",
    "learn = Learner(dls, model, loss_func=CrossEntropyLossFlat(), metrics=accuracy)\n",
    "# learn.lr_find()  #doesn't work in my notebook env"
   ]
  },
  {
   "cell_type": "code",
   "execution_count": 13,
   "metadata": {},
   "outputs": [
    {
     "data": {
      "text/html": [
       "\n",
       "<style>\n",
       "    /* Turns off some styling */\n",
       "    progress {\n",
       "        /* gets rid of default border in Firefox and Opera. */\n",
       "        border: none;\n",
       "        /* Needs to be in here for Safari polyfill so background images work as expected. */\n",
       "        background-size: auto;\n",
       "    }\n",
       "    progress:not([value]), progress:not([value])::-webkit-progress-bar {\n",
       "        background: repeating-linear-gradient(45deg, #7e7e7e, #7e7e7e 10px, #5c5c5c 10px, #5c5c5c 20px);\n",
       "    }\n",
       "    .progress-bar-interrupted, .progress-bar-interrupted::-webkit-progress-bar {\n",
       "        background: #F44336;\n",
       "    }\n",
       "</style>\n"
      ],
      "text/plain": [
       "<IPython.core.display.HTML object>"
      ]
     },
     "metadata": {},
     "output_type": "display_data"
    },
    {
     "data": {
      "text/html": [
       "<table border=\"1\" class=\"dataframe\">\n",
       "  <thead>\n",
       "    <tr style=\"text-align: left;\">\n",
       "      <th>epoch</th>\n",
       "      <th>train_loss</th>\n",
       "      <th>valid_loss</th>\n",
       "      <th>accuracy</th>\n",
       "      <th>time</th>\n",
       "    </tr>\n",
       "  </thead>\n",
       "  <tbody>\n",
       "    <tr>\n",
       "      <td>0</td>\n",
       "      <td>7.048087</td>\n",
       "      <td>7.238580</td>\n",
       "      <td>0.176391</td>\n",
       "      <td>00:11</td>\n",
       "    </tr>\n",
       "    <tr>\n",
       "      <td>1</td>\n",
       "      <td>6.373477</td>\n",
       "      <td>6.980987</td>\n",
       "      <td>0.173349</td>\n",
       "      <td>00:07</td>\n",
       "    </tr>\n",
       "    <tr>\n",
       "      <td>2</td>\n",
       "      <td>5.836378</td>\n",
       "      <td>6.955272</td>\n",
       "      <td>0.175670</td>\n",
       "      <td>00:08</td>\n",
       "    </tr>\n",
       "    <tr>\n",
       "      <td>3</td>\n",
       "      <td>5.183416</td>\n",
       "      <td>7.009202</td>\n",
       "      <td>0.176150</td>\n",
       "      <td>00:07</td>\n",
       "    </tr>\n",
       "    <tr>\n",
       "      <td>4</td>\n",
       "      <td>4.491425</td>\n",
       "      <td>7.064063</td>\n",
       "      <td>0.172229</td>\n",
       "      <td>00:07</td>\n",
       "    </tr>\n",
       "  </tbody>\n",
       "</table>"
      ],
      "text/plain": [
       "<IPython.core.display.HTML object>"
      ]
     },
     "metadata": {},
     "output_type": "display_data"
    }
   ],
   "source": [
    "learn.fit_one_cycle(5, 5e-3)"
   ]
  },
  {
   "cell_type": "markdown",
   "metadata": {},
   "source": [
    "## Multi head attention "
   ]
  },
  {
   "cell_type": "code",
   "execution_count": 125,
   "metadata": {},
   "outputs": [],
   "source": [
    "class MultiheadAttention(torch.nn.Module):\n",
    "    def __init__(self, d_in, d_qk, n_heads, d_v=None):\n",
    "        super().__init__()\n",
    "        if d_v is None:\n",
    "            d_v = d_qk\n",
    "        self.n_heads = n_heads\n",
    "        self.mattn = torch.nn.ModuleList([\n",
    "            SelfAttention(d_in, d_qk) for _ in range(n_heads)\n",
    "        ])\n",
    "        self.out = torch.nn.Linear(d_v * n_heads, d_in, bias=False)\n",
    "        \n",
    "\n",
    "    def forward(self, x):\n",
    "        '''\n",
    "        Out dimension - (batch_size, seq_len, d_model)\n",
    "        '''\n",
    "        heads = [attn(x) for attn in self.mattn]\n",
    "        x = torch.cat(heads, dim=-1) \n",
    "        x = self.out(x)\n",
    "        return x"
   ]
  },
  {
   "cell_type": "code",
   "execution_count": 126,
   "metadata": {},
   "outputs": [],
   "source": [
    "class Mha_parallel(torch.nn.Module):\n",
    "    def __init__(self, d_in, d_qk, n_heads, d_v=None):\n",
    "        super().__init__()\n",
    "        if d_v is None:\n",
    "            d_v = d_qk\n",
    "        self.n_heads = n_heads\n",
    "        self.q = torch.nn.Linear(d_in, d_qk * n_heads, bias=False)\n",
    "        self.k = torch.nn.Linear(d_in, d_qk * n_heads, bias=False)\n",
    "        if d_v is None:\n",
    "            d_v = d_qk\n",
    "        self.scale = d_qk ** -0.5  \n",
    "        self.v = torch.nn.Linear(d_in, d_qk * n_heads, bias=False)\n",
    "        self.softmax = torch.nn.Softmax(dim=-1)\n",
    "        self.out = torch.nn.Linear(d_v * n_heads, d_in, bias=False)\n",
    "\n",
    "    def forward(self, x):\n",
    "        Q, K, V = self.q(x), self.k(x), self.v(x)\n",
    "        # print(f\"Q shape: {Q.shape}, K shape: {K.shape}, V shape: {V.shape}\")([64, 3, 512], [64, 3, 512], [64, 3, 512])\n",
    "        x = self.scale * torch.matmul(Q, K.transpose(-2, -1)) \n",
    "        # print(f\"Attention scores shape before softmax: {x.shape}\") ([64, 3, 3])\n",
    "        x = self.softmax(x)\n",
    "        # print(f\"Attention scores shape after softmax: {x.shape}\") ([64, 3, 3])\n",
    "        # x = self.out(x)\n",
    "        x = torch.matmul(x, V)\n",
    "        # print(f\"Final output shape: {x.shape}\")  ([64, 3, 512])\n",
    "        x = self.out(x)\n",
    "        # print(f\"Output shape after output layer: {x.shape}\") ([64, 3, 64])\n",
    "        return x\n",
    "        \n",
    "        "
   ]
  },
  {
   "cell_type": "code",
   "execution_count": 127,
   "metadata": {},
   "outputs": [],
   "source": [
    "class module_multihead(torch.nn.Module):\n",
    "    def __init__(self, d_model, n_heads, vocab_sz, d_ff, d_qk):\n",
    "        super().__init__()\n",
    "        self.embedding = torch.nn.Embedding(vocab_sz, d_model)\n",
    "        self.attention = Mha_parallel(d_model, d_qk, n_heads)\n",
    "        self.nn = nn(d_model, d_ff) \n",
    "        self.out = torch.nn.Linear(d_model, vocab_sz)\n",
    "\n",
    "    def forward(self, x):\n",
    "        x = self.embedding(x)\n",
    "        x = self.attention(x)  #n_head * (batch_size, seq_len, d_model)\n",
    "        x = self.nn(x) # (batch_size, seq_len, d_ff)\n",
    "        x = x.mean(1) # (batch_size, d_ff)\n",
    "        x = self.out(x) # (batch_size, vocab_size)\n",
    "        return x\n",
    "        "
   ]
  },
  {
   "cell_type": "code",
   "execution_count": 128,
   "metadata": {},
   "outputs": [],
   "source": [
    "model = module_multihead(64, 8, len(vocab), 32, 64)\n",
    "dls = DataLoaders(trainloader, validloader)\n",
    "learn = Learner(dls, model, loss_func=CrossEntropyLossFlat(), metrics=accuracy)\n"
   ]
  },
  {
   "cell_type": "code",
   "execution_count": 129,
   "metadata": {},
   "outputs": [
    {
     "data": {
      "text/html": [
       "\n",
       "<style>\n",
       "    /* Turns off some styling */\n",
       "    progress {\n",
       "        /* gets rid of default border in Firefox and Opera. */\n",
       "        border: none;\n",
       "        /* Needs to be in here for Safari polyfill so background images work as expected. */\n",
       "        background-size: auto;\n",
       "    }\n",
       "    progress:not([value]), progress:not([value])::-webkit-progress-bar {\n",
       "        background: repeating-linear-gradient(45deg, #7e7e7e, #7e7e7e 10px, #5c5c5c 10px, #5c5c5c 20px);\n",
       "    }\n",
       "    .progress-bar-interrupted, .progress-bar-interrupted::-webkit-progress-bar {\n",
       "        background: #F44336;\n",
       "    }\n",
       "</style>\n"
      ],
      "text/plain": [
       "<IPython.core.display.HTML object>"
      ]
     },
     "metadata": {},
     "output_type": "display_data"
    },
    {
     "data": {
      "text/html": [
       "<table border=\"1\" class=\"dataframe\">\n",
       "  <thead>\n",
       "    <tr style=\"text-align: left;\">\n",
       "      <th>epoch</th>\n",
       "      <th>train_loss</th>\n",
       "      <th>valid_loss</th>\n",
       "      <th>accuracy</th>\n",
       "      <th>time</th>\n",
       "    </tr>\n",
       "  </thead>\n",
       "  <tbody>\n",
       "    <tr>\n",
       "      <td>0</td>\n",
       "      <td>6.795947</td>\n",
       "      <td>6.958097</td>\n",
       "      <td>0.182313</td>\n",
       "      <td>00:07</td>\n",
       "    </tr>\n",
       "    <tr>\n",
       "      <td>1</td>\n",
       "      <td>6.473310</td>\n",
       "      <td>6.892514</td>\n",
       "      <td>0.190476</td>\n",
       "      <td>00:07</td>\n",
       "    </tr>\n",
       "    <tr>\n",
       "      <td>2</td>\n",
       "      <td>6.275827</td>\n",
       "      <td>6.848967</td>\n",
       "      <td>0.186074</td>\n",
       "      <td>00:07</td>\n",
       "    </tr>\n",
       "    <tr>\n",
       "      <td>3</td>\n",
       "      <td>6.026938</td>\n",
       "      <td>6.837062</td>\n",
       "      <td>0.187835</td>\n",
       "      <td>00:07</td>\n",
       "    </tr>\n",
       "    <tr>\n",
       "      <td>4</td>\n",
       "      <td>5.764420</td>\n",
       "      <td>6.890370</td>\n",
       "      <td>0.187115</td>\n",
       "      <td>00:07</td>\n",
       "    </tr>\n",
       "  </tbody>\n",
       "</table>"
      ],
      "text/plain": [
       "<IPython.core.display.HTML object>"
      ]
     },
     "metadata": {},
     "output_type": "display_data"
    }
   ],
   "source": [
    "learn.fit_one_cycle(5, 5e-3)"
   ]
  },
  {
   "cell_type": "markdown",
   "metadata": {},
   "source": [
    "## Positional encodings"
   ]
  },
  {
   "cell_type": "code",
   "execution_count": 230,
   "metadata": {},
   "outputs": [],
   "source": [
    "class PositionalEncoding(torch.nn.Module):\n",
    "    '''\n",
    "    Each input sequence need to be mapped to a vector of size -> (seq_len, embedding_size)\n",
    "    need to add the device part else error: RuntimeError: Expected all tensors to be on the same device, but found at least two devices, mps:0 and cpu!\n",
    "    frequency represents the frequency of the sine and cosine functions used to encode \n",
    "    If d_embedding_size is 512, then the frequency will be a tensor of shape (256,)\n",
    "    the scalar 10000 and the scaling factor is as implemented in the original paper\n",
    "    '''\n",
    "    def __init__(self, d):\n",
    "        super().__init__()\n",
    "        default_device(torch.device(\"mps\"))\n",
    "        # self.seq_len = seq_len\n",
    "        # self.freq = 1/(10000 ** (torch.arange(0., d, 2.)/d))\n",
    "        self.register_buffer('freq', 1/(10000 ** (torch.arange(0., d, 2.)/d)))\n",
    "        self.scale = d**0.5\n",
    "\n",
    "    def forward(self, x):\n",
    "        device = x.device\n",
    "        pe = torch.cat([torch.sin(torch.outer(torch.arange((x.size(1)), device=device), self.freq)),\n",
    "                        torch.cos(torch.outer(torch.arange((x.size(1)), device=device), self.freq))],\n",
    "                       axis=-1)\n",
    "        # print(pe.device)\n",
    "        # print(x.device)\n",
    "        # print(self.scale.device)\n",
    "        return x*self.scale + pe\n"
   ]
  },
  {
   "cell_type": "code",
   "execution_count": 231,
   "metadata": {},
   "outputs": [],
   "source": [
    "class module_multihead_pe(torch.nn.Module):\n",
    "    def __init__(self, d_model, n_heads, vocab_sz, d_ff, d_qk):\n",
    "        super().__init__()\n",
    "        self.embedding = torch.nn.Embedding(vocab_sz, d_model)\n",
    "        self.PositionalEncoding = PositionalEncoding(d_model)\n",
    "        self.attention = Mha_parallel(d_model, d_qk, n_heads)\n",
    "        self.nn = nn(d_model, d_ff) \n",
    "        self.out = torch.nn.Linear(d_model, vocab_sz)\n",
    "\n",
    "    def forward(self, x):\n",
    "        x = self.embedding(x)\n",
    "        x = self.PositionalEncoding(x)\n",
    "        x = self.attention(x)  #n_head * (batch_size, seq_len, d_model)\n",
    "        x = self.nn(x) # (batch_size, seq_len, d_ff)\n",
    "        x = x.mean(1) # (batch_size, d_ff)\n",
    "        x = self.out(x) # (batch_size, vocab_size)\n",
    "        return x\n",
    "        "
   ]
  },
  {
   "cell_type": "code",
   "execution_count": 232,
   "metadata": {},
   "outputs": [],
   "source": [
    "# default_device(torch.device(\"mps\"))\n",
    "model = module_multihead_pe(64, 8, len(vocab), 32, 64)\n",
    "dls = DataLoaders(trainloader, validloader)\n",
    "learn = Learner(dls, model, loss_func=CrossEntropyLossFlat(), metrics=accuracy)"
   ]
  },
  {
   "cell_type": "code",
   "execution_count": null,
   "metadata": {},
   "outputs": [
    {
     "data": {
      "text/html": [
       "\n",
       "<style>\n",
       "    /* Turns off some styling */\n",
       "    progress {\n",
       "        /* gets rid of default border in Firefox and Opera. */\n",
       "        border: none;\n",
       "        /* Needs to be in here for Safari polyfill so background images work as expected. */\n",
       "        background-size: auto;\n",
       "    }\n",
       "    progress:not([value]), progress:not([value])::-webkit-progress-bar {\n",
       "        background: repeating-linear-gradient(45deg, #7e7e7e, #7e7e7e 10px, #5c5c5c 10px, #5c5c5c 20px);\n",
       "    }\n",
       "    .progress-bar-interrupted, .progress-bar-interrupted::-webkit-progress-bar {\n",
       "        background: #F44336;\n",
       "    }\n",
       "</style>\n"
      ],
      "text/plain": [
       "<IPython.core.display.HTML object>"
      ]
     },
     "metadata": {},
     "output_type": "display_data"
    },
    {
     "data": {
      "text/html": [
       "\n",
       "    <div>\n",
       "      <progress value='1' class='' max='5' style='width:300px; height:20px; vertical-align: middle;'></progress>\n",
       "      20.00% [1/5 00:08&lt;00:32]\n",
       "    </div>\n",
       "    \n",
       "<table border=\"1\" class=\"dataframe\">\n",
       "  <thead>\n",
       "    <tr style=\"text-align: left;\">\n",
       "      <th>epoch</th>\n",
       "      <th>train_loss</th>\n",
       "      <th>valid_loss</th>\n",
       "      <th>accuracy</th>\n",
       "      <th>time</th>\n",
       "    </tr>\n",
       "  </thead>\n",
       "  <tbody>\n",
       "    <tr>\n",
       "      <td>0</td>\n",
       "      <td>6.967245</td>\n",
       "      <td>7.093973</td>\n",
       "      <td>0.166547</td>\n",
       "      <td>00:08</td>\n",
       "    </tr>\n",
       "  </tbody>\n",
       "</table><p>\n",
       "\n",
       "    <div>\n",
       "      <progress value='473' class='' max='781' style='width:300px; height:20px; vertical-align: middle;'></progress>\n",
       "      60.56% [473/781 00:04&lt;00:02 6.6311]\n",
       "    </div>\n",
       "    "
      ],
      "text/plain": [
       "<IPython.core.display.HTML object>"
      ]
     },
     "metadata": {},
     "output_type": "display_data"
    }
   ],
   "source": [
    "learn.fit_one_cycle(5, 5e-3)"
   ]
  },
  {
   "cell_type": "code",
   "execution_count": null,
   "metadata": {},
   "outputs": [],
   "source": []
  },
  {
   "cell_type": "code",
   "execution_count": null,
   "metadata": {},
   "outputs": [],
   "source": []
  },
  {
   "cell_type": "code",
   "execution_count": null,
   "metadata": {},
   "outputs": [],
   "source": []
  },
  {
   "cell_type": "code",
   "execution_count": 30,
   "metadata": {},
   "outputs": [
    {
     "data": {
      "text/plain": [
       "'\\nCredits \\nhttps://colab.research.google.com/drive/1rjYhOhAmEyi1u2uz2s9XABjDFphTOFvY#scrollTo=c49ffa82\\n'"
      ]
     },
     "execution_count": 30,
     "metadata": {},
     "output_type": "execute_result"
    }
   ],
   "source": [
    "'''\n",
    "Credits \n",
    "https://colab.research.google.com/drive/1rjYhOhAmEyi1u2uz2s9XABjDFphTOFvY#scrollTo=c49ffa82\n",
    "'''"
   ]
  },
  {
   "cell_type": "code",
   "execution_count": null,
   "metadata": {},
   "outputs": [],
   "source": []
  }
 ],
 "metadata": {
  "kernelspec": {
   "display_name": "transformer",
   "language": "python",
   "name": "python3"
  },
  "language_info": {
   "codemirror_mode": {
    "name": "ipython",
    "version": 3
   },
   "file_extension": ".py",
   "mimetype": "text/x-python",
   "name": "python",
   "nbconvert_exporter": "python",
   "pygments_lexer": "ipython3",
   "version": "3.9.6"
  }
 },
 "nbformat": 4,
 "nbformat_minor": 2
}
